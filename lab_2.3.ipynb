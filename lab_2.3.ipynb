{
 "cells": [
  {
   "cell_type": "markdown",
   "metadata": {},
   "source": [
    "# 2.3 Lab: Introduction to R"
   ]
  },
  {
   "cell_type": "markdown",
   "metadata": {},
   "source": [
    "## 2.3.1 Basic Commands"
   ]
  },
  {
   "cell_type": "code",
   "execution_count": 1,
   "metadata": {},
   "outputs": [
    {
     "data": {
      "text/html": [
       "<ol class=list-inline>\n",
       "\t<li>1</li>\n",
       "\t<li>3</li>\n",
       "\t<li>2</li>\n",
       "\t<li>5</li>\n",
       "</ol>\n"
      ],
      "text/latex": [
       "\\begin{enumerate*}\n",
       "\\item 1\n",
       "\\item 3\n",
       "\\item 2\n",
       "\\item 5\n",
       "\\end{enumerate*}\n"
      ],
      "text/markdown": [
       "1. 1\n",
       "2. 3\n",
       "3. 2\n",
       "4. 5\n",
       "\n",
       "\n"
      ],
      "text/plain": [
       "[1] 1 3 2 5"
      ]
     },
     "metadata": {},
     "output_type": "display_data"
    }
   ],
   "source": [
    "# assign and show a vector\n",
    "x <- c(1,3,2,5)\n",
    "x"
   ]
  },
  {
   "cell_type": "code",
   "execution_count": 2,
   "metadata": {},
   "outputs": [
    {
     "data": {
      "text/html": [
       "<ol class=list-inline>\n",
       "\t<li>1</li>\n",
       "\t<li>6</li>\n",
       "\t<li>2</li>\n",
       "</ol>\n"
      ],
      "text/latex": [
       "\\begin{enumerate*}\n",
       "\\item 1\n",
       "\\item 6\n",
       "\\item 2\n",
       "\\end{enumerate*}\n"
      ],
      "text/markdown": [
       "1. 1\n",
       "2. 6\n",
       "3. 2\n",
       "\n",
       "\n"
      ],
      "text/plain": [
       "[1] 1 6 2"
      ]
     },
     "metadata": {},
     "output_type": "display_data"
    }
   ],
   "source": [
    "# re-assign a new vector to the variable x and show\n",
    "x = c(1,6,2)\n",
    "x"
   ]
  },
  {
   "cell_type": "code",
   "execution_count": 3,
   "metadata": {},
   "outputs": [],
   "source": [
    "# assign a vector without showing\n",
    "y = c(1,4,3)"
   ]
  },
  {
   "cell_type": "code",
   "execution_count": 4,
   "metadata": {},
   "outputs": [],
   "source": [
    "# pull up the help for the length function\n",
    "?length"
   ]
  },
  {
   "cell_type": "code",
   "execution_count": 5,
   "metadata": {},
   "outputs": [
    {
     "data": {
      "text/html": [
       "3"
      ],
      "text/latex": [
       "3"
      ],
      "text/markdown": [
       "3"
      ],
      "text/plain": [
       "[1] 3"
      ]
     },
     "metadata": {},
     "output_type": "display_data"
    }
   ],
   "source": [
    "# check the length of x\n",
    "length(x)"
   ]
  },
  {
   "cell_type": "code",
   "execution_count": 6,
   "metadata": {},
   "outputs": [
    {
     "data": {
      "text/html": [
       "3"
      ],
      "text/latex": [
       "3"
      ],
      "text/markdown": [
       "3"
      ],
      "text/plain": [
       "[1] 3"
      ]
     },
     "metadata": {},
     "output_type": "display_data"
    }
   ],
   "source": [
    "# check the length of y\n",
    "length(y)"
   ]
  },
  {
   "cell_type": "code",
   "execution_count": 7,
   "metadata": {},
   "outputs": [
    {
     "data": {
      "text/html": [
       "<ol class=list-inline>\n",
       "\t<li>2</li>\n",
       "\t<li>10</li>\n",
       "\t<li>5</li>\n",
       "</ol>\n"
      ],
      "text/latex": [
       "\\begin{enumerate*}\n",
       "\\item 2\n",
       "\\item 10\n",
       "\\item 5\n",
       "\\end{enumerate*}\n"
      ],
      "text/markdown": [
       "1. 2\n",
       "2. 10\n",
       "3. 5\n",
       "\n",
       "\n"
      ],
      "text/plain": [
       "[1]  2 10  5"
      ]
     },
     "metadata": {},
     "output_type": "display_data"
    }
   ],
   "source": [
    "# add the vectors x and y and show without saving\n",
    "x + y"
   ]
  },
  {
   "cell_type": "code",
   "execution_count": 8,
   "metadata": {},
   "outputs": [],
   "source": [
    "?ls"
   ]
  },
  {
   "cell_type": "code",
   "execution_count": 9,
   "metadata": {},
   "outputs": [
    {
     "data": {
      "text/html": [
       "<ol class=list-inline>\n",
       "\t<li>'x'</li>\n",
       "\t<li>'y'</li>\n",
       "</ol>\n"
      ],
      "text/latex": [
       "\\begin{enumerate*}\n",
       "\\item 'x'\n",
       "\\item 'y'\n",
       "\\end{enumerate*}\n"
      ],
      "text/markdown": [
       "1. 'x'\n",
       "2. 'y'\n",
       "\n",
       "\n"
      ],
      "text/plain": [
       "[1] \"x\" \"y\""
      ]
     },
     "metadata": {},
     "output_type": "display_data"
    }
   ],
   "source": [
    "# show all objects in the base namespace\n",
    "ls()"
   ]
  },
  {
   "cell_type": "code",
   "execution_count": 10,
   "metadata": {},
   "outputs": [
    {
     "data": {
      "text/html": [],
      "text/latex": [],
      "text/markdown": [],
      "text/plain": [
       "character(0)"
      ]
     },
     "metadata": {},
     "output_type": "display_data"
    }
   ],
   "source": [
    "# remove objects x and y and check that they are gone\n",
    "rm(x,y)\n",
    "ls()"
   ]
  },
  {
   "cell_type": "code",
   "execution_count": 11,
   "metadata": {},
   "outputs": [
    {
     "data": {
      "text/html": [
       "<ol class=list-inline>\n",
       "\t<li>'x'</li>\n",
       "\t<li>'y'</li>\n",
       "</ol>\n"
      ],
      "text/latex": [
       "\\begin{enumerate*}\n",
       "\\item 'x'\n",
       "\\item 'y'\n",
       "\\end{enumerate*}\n"
      ],
      "text/markdown": [
       "1. 'x'\n",
       "2. 'y'\n",
       "\n",
       "\n"
      ],
      "text/plain": [
       "[1] \"x\" \"y\""
      ]
     },
     "metadata": {},
     "output_type": "display_data"
    }
   ],
   "source": [
    "# re-declare x and y and show all objects\n",
    "x = 1\n",
    "y = 2\n",
    "ls()"
   ]
  },
  {
   "cell_type": "code",
   "execution_count": 12,
   "metadata": {},
   "outputs": [
    {
     "data": {
      "text/html": [],
      "text/latex": [],
      "text/markdown": [],
      "text/plain": [
       "character(0)"
      ]
     },
     "metadata": {},
     "output_type": "display_data"
    }
   ],
   "source": [
    "# remove all objects\n",
    "rm(list=ls())\n",
    "ls()"
   ]
  },
  {
   "cell_type": "code",
   "execution_count": 13,
   "metadata": {},
   "outputs": [],
   "source": [
    "# pull up the help for the matrix function\n",
    "?matrix"
   ]
  },
  {
   "cell_type": "code",
   "execution_count": 14,
   "metadata": {},
   "outputs": [
    {
     "data": {
      "text/html": [
       "<table>\n",
       "<tbody>\n",
       "\t<tr><td>1</td><td>3</td></tr>\n",
       "\t<tr><td>2</td><td>4</td></tr>\n",
       "</tbody>\n",
       "</table>\n"
      ],
      "text/latex": [
       "\\begin{tabular}{ll}\n",
       "\t 1 & 3\\\\\n",
       "\t 2 & 4\\\\\n",
       "\\end{tabular}\n"
      ],
      "text/markdown": [
       "\n",
       "| 1 | 3 | \n",
       "| 2 | 4 | \n",
       "\n",
       "\n"
      ],
      "text/plain": [
       "     [,1] [,2]\n",
       "[1,] 1    3   \n",
       "[2,] 2    4   "
      ]
     },
     "metadata": {},
     "output_type": "display_data"
    }
   ],
   "source": [
    "# create a matrix\n",
    "x = matrix(data=c(1,2,3,4), ncol=2, nrow=2)\n",
    "x"
   ]
  },
  {
   "cell_type": "code",
   "execution_count": 15,
   "metadata": {},
   "outputs": [
    {
     "data": {
      "text/html": [
       "<table>\n",
       "<tbody>\n",
       "\t<tr><td>1</td><td>3</td></tr>\n",
       "\t<tr><td>2</td><td>4</td></tr>\n",
       "</tbody>\n",
       "</table>\n"
      ],
      "text/latex": [
       "\\begin{tabular}{ll}\n",
       "\t 1 & 3\\\\\n",
       "\t 2 & 4\\\\\n",
       "\\end{tabular}\n"
      ],
      "text/markdown": [
       "\n",
       "| 1 | 3 | \n",
       "| 2 | 4 | \n",
       "\n",
       "\n"
      ],
      "text/plain": [
       "     [,1] [,2]\n",
       "[1,] 1    3   \n",
       "[2,] 2    4   "
      ]
     },
     "metadata": {},
     "output_type": "display_data"
    }
   ],
   "source": [
    "# note, nrow argument is not necessary\n",
    "x = matrix(data=c(1,2,3,4), ncol=2, nrow=2)\n",
    "x"
   ]
  },
  {
   "cell_type": "code",
   "execution_count": 16,
   "metadata": {},
   "outputs": [
    {
     "data": {
      "text/html": [
       "<table>\n",
       "<tbody>\n",
       "\t<tr><td>1</td><td>3</td></tr>\n",
       "\t<tr><td>2</td><td>4</td></tr>\n",
       "</tbody>\n",
       "</table>\n"
      ],
      "text/latex": [
       "\\begin{tabular}{ll}\n",
       "\t 1 & 3\\\\\n",
       "\t 2 & 4\\\\\n",
       "\\end{tabular}\n"
      ],
      "text/markdown": [
       "\n",
       "| 1 | 3 | \n",
       "| 2 | 4 | \n",
       "\n",
       "\n"
      ],
      "text/plain": [
       "     [,1] [,2]\n",
       "[1,] 1    3   \n",
       "[2,] 2    4   "
      ]
     },
     "metadata": {},
     "output_type": "display_data"
    }
   ],
   "source": [
    "# passing arguments in order has instead of by keyword has same result\n",
    "x = matrix(c(1,2,3,4), 2, 2)\n",
    "x"
   ]
  },
  {
   "cell_type": "code",
   "execution_count": 17,
   "metadata": {},
   "outputs": [
    {
     "data": {
      "text/html": [
       "<table>\n",
       "<tbody>\n",
       "\t<tr><td>1</td><td>2</td></tr>\n",
       "\t<tr><td>3</td><td>4</td></tr>\n",
       "</tbody>\n",
       "</table>\n"
      ],
      "text/latex": [
       "\\begin{tabular}{ll}\n",
       "\t 1 & 2\\\\\n",
       "\t 3 & 4\\\\\n",
       "\\end{tabular}\n"
      ],
      "text/markdown": [
       "\n",
       "| 1 | 2 | \n",
       "| 3 | 4 | \n",
       "\n",
       "\n"
      ],
      "text/plain": [
       "     [,1] [,2]\n",
       "[1,] 1    2   \n",
       "[2,] 3    4   "
      ]
     },
     "metadata": {},
     "output_type": "display_data"
    }
   ],
   "source": [
    "# by default, matrices are filled form the vector by column\n",
    "# to change this specify byrow=TRUE\n",
    "matrix(c(1,2,3,4), 2, 2, byrow=TRUE)"
   ]
  },
  {
   "cell_type": "code",
   "execution_count": 18,
   "metadata": {},
   "outputs": [
    {
     "data": {
      "text/html": [
       "<table>\n",
       "<tbody>\n",
       "\t<tr><td>1.000000</td><td>1.732051</td></tr>\n",
       "\t<tr><td>1.414214</td><td>2.000000</td></tr>\n",
       "</tbody>\n",
       "</table>\n"
      ],
      "text/latex": [
       "\\begin{tabular}{ll}\n",
       "\t 1.000000 & 1.732051\\\\\n",
       "\t 1.414214 & 2.000000\\\\\n",
       "\\end{tabular}\n"
      ],
      "text/markdown": [
       "\n",
       "| 1.000000 | 1.732051 | \n",
       "| 1.414214 | 2.000000 | \n",
       "\n",
       "\n"
      ],
      "text/plain": [
       "     [,1]     [,2]    \n",
       "[1,] 1.000000 1.732051\n",
       "[2,] 1.414214 2.000000"
      ]
     },
     "metadata": {},
     "output_type": "display_data"
    }
   ],
   "source": [
    "# take the elementwise square root of x\n",
    "sqrt(x)"
   ]
  },
  {
   "cell_type": "code",
   "execution_count": 19,
   "metadata": {},
   "outputs": [
    {
     "data": {
      "text/html": [
       "<table>\n",
       "<tbody>\n",
       "\t<tr><td>1 </td><td> 9</td></tr>\n",
       "\t<tr><td>4 </td><td>16</td></tr>\n",
       "</tbody>\n",
       "</table>\n"
      ],
      "text/latex": [
       "\\begin{tabular}{ll}\n",
       "\t 1  &  9\\\\\n",
       "\t 4  & 16\\\\\n",
       "\\end{tabular}\n"
      ],
      "text/markdown": [
       "\n",
       "| 1  |  9 | \n",
       "| 4  | 16 | \n",
       "\n",
       "\n"
      ],
      "text/plain": [
       "     [,1] [,2]\n",
       "[1,] 1     9  \n",
       "[2,] 4    16  "
      ]
     },
     "metadata": {},
     "output_type": "display_data"
    }
   ],
   "source": [
    "# take elementwise square of x\n",
    "x ^ 2"
   ]
  },
  {
   "cell_type": "code",
   "execution_count": 20,
   "metadata": {},
   "outputs": [],
   "source": [
    "?rnorm"
   ]
  },
  {
   "cell_type": "code",
   "execution_count": 21,
   "metadata": {},
   "outputs": [
    {
     "data": {
      "text/html": [
       "1.09079665527225"
      ],
      "text/latex": [
       "1.09079665527225"
      ],
      "text/markdown": [
       "1.09079665527225"
      ],
      "text/plain": [
       "[1] 1.090797"
      ]
     },
     "metadata": {},
     "output_type": "display_data"
    }
   ],
   "source": [
    "# create a vector of 50 standard normal draws\n",
    "x = rnorm(50)\n",
    "\n",
    "# create another vector by adding N(mean=50, standard deviation=.1) to x\n",
    "y = x + rnorm(50, mean=50, sd=.1)\n",
    "\n",
    "# check the covariance between the vectors\n",
    "cov(x, y)"
   ]
  },
  {
   "cell_type": "code",
   "execution_count": 22,
   "metadata": {},
   "outputs": [
    {
     "data": {
      "text/html": [
       "0.856150484093511"
      ],
      "text/latex": [
       "0.856150484093511"
      ],
      "text/markdown": [
       "0.856150484093511"
      ],
      "text/plain": [
       "[1] 0.8561505"
      ]
     },
     "metadata": {},
     "output_type": "display_data"
    }
   ],
   "source": [
    "# do it again\n",
    "x = rnorm(50)\n",
    "y = x + rnorm(50, mean=50, sd=.1)\n",
    "cov(x, y)"
   ]
  },
  {
   "cell_type": "code",
   "execution_count": 23,
   "metadata": {},
   "outputs": [
    {
     "data": {
      "text/html": [
       "0.796123546041528"
      ],
      "text/latex": [
       "0.796123546041528"
      ],
      "text/markdown": [
       "0.796123546041528"
      ],
      "text/plain": [
       "[1] 0.7961235"
      ]
     },
     "metadata": {},
     "output_type": "display_data"
    }
   ],
   "source": [
    "# do it again setting the seed\n",
    "set.seed(1303)\n",
    "x = rnorm(50)\n",
    "y = x + rnorm(50, mean=50, sd=.1)\n",
    "cov(x, y)"
   ]
  },
  {
   "cell_type": "code",
   "execution_count": 24,
   "metadata": {},
   "outputs": [
    {
     "data": {
      "text/html": [
       "0.796123546041528"
      ],
      "text/latex": [
       "0.796123546041528"
      ],
      "text/markdown": [
       "0.796123546041528"
      ],
      "text/plain": [
       "[1] 0.7961235"
      ]
     },
     "metadata": {},
     "output_type": "display_data"
    }
   ],
   "source": [
    "# do it yet again setting the seed\n",
    "set.seed(1303)\n",
    "x = rnorm(50)\n",
    "y = x + rnorm(50, mean=50, sd=.1)\n",
    "cov(x, y)"
   ]
  },
  {
   "cell_type": "code",
   "execution_count": 25,
   "metadata": {},
   "outputs": [
    {
     "data": {
      "text/html": [
       "<ol class=list-inline>\n",
       "\t<li>-1.14397631447974</li>\n",
       "\t<li>1.34212936561501</li>\n",
       "\t<li>2.18539047574276</li>\n",
       "\t<li>0.536392517923731</li>\n",
       "\t<li>0.0631929664685468</li>\n",
       "\t<li>0.502234482468979</li>\n",
       "\t<li>-0.000416724686432643</li>\n",
       "\t<li>0.565819840539162</li>\n",
       "\t<li>-0.572522688962623</li>\n",
       "\t<li>-1.11022500727696</li>\n",
       "\t<li>-0.0486871233624514</li>\n",
       "\t<li>-0.695656217619366</li>\n",
       "\t<li>0.828917480303335</li>\n",
       "\t<li>0.206652855081802</li>\n",
       "\t<li>-0.235674509102427</li>\n",
       "\t<li>-0.556310491381104</li>\n",
       "\t<li>-0.364754357080585</li>\n",
       "\t<li>0.862355034263622</li>\n",
       "\t<li>-0.63077153536771</li>\n",
       "\t<li>0.313602125215739</li>\n",
       "\t<li>-0.931495317661393</li>\n",
       "\t<li>0.823867618473952</li>\n",
       "\t<li>0.523370702077482</li>\n",
       "\t<li>0.706921411979056</li>\n",
       "\t<li>0.420204325601679</li>\n",
       "\t<li>-0.269052154682033</li>\n",
       "\t<li>-1.51031729990999</li>\n",
       "\t<li>-0.69021247657504</li>\n",
       "\t<li>-0.143471952443572</li>\n",
       "\t<li>-1.0135274099044</li>\n",
       "\t<li>1.57327373614751</li>\n",
       "\t<li>0.0127465054882014</li>\n",
       "\t<li>0.872647049887217</li>\n",
       "\t<li>0.422066190530336</li>\n",
       "\t<li>-0.0188157916578866</li>\n",
       "\t<li>2.61574896890584</li>\n",
       "\t<li>-0.693140174826871</li>\n",
       "\t<li>-0.266321780991085</li>\n",
       "\t<li>-0.720636441231524</li>\n",
       "\t<li>1.36773420645149</li>\n",
       "\t<li>0.264007332160512</li>\n",
       "\t<li>0.632186807367191</li>\n",
       "\t<li>-1.33065098578719</li>\n",
       "\t<li>0.0268888182209596</li>\n",
       "\t<li>1.0406363207788</li>\n",
       "\t<li>1.31202379854711</li>\n",
       "\t<li>-0.0300020766733214</li>\n",
       "\t<li>-0.250025712488174</li>\n",
       "\t<li>0.0234144856913592</li>\n",
       "\t<li>1.65987065574227</li>\n",
       "</ol>\n"
      ],
      "text/latex": [
       "\\begin{enumerate*}\n",
       "\\item -1.14397631447974\n",
       "\\item 1.34212936561501\n",
       "\\item 2.18539047574276\n",
       "\\item 0.536392517923731\n",
       "\\item 0.0631929664685468\n",
       "\\item 0.502234482468979\n",
       "\\item -0.000416724686432643\n",
       "\\item 0.565819840539162\n",
       "\\item -0.572522688962623\n",
       "\\item -1.11022500727696\n",
       "\\item -0.0486871233624514\n",
       "\\item -0.695656217619366\n",
       "\\item 0.828917480303335\n",
       "\\item 0.206652855081802\n",
       "\\item -0.235674509102427\n",
       "\\item -0.556310491381104\n",
       "\\item -0.364754357080585\n",
       "\\item 0.862355034263622\n",
       "\\item -0.63077153536771\n",
       "\\item 0.313602125215739\n",
       "\\item -0.931495317661393\n",
       "\\item 0.823867618473952\n",
       "\\item 0.523370702077482\n",
       "\\item 0.706921411979056\n",
       "\\item 0.420204325601679\n",
       "\\item -0.269052154682033\n",
       "\\item -1.51031729990999\n",
       "\\item -0.69021247657504\n",
       "\\item -0.143471952443572\n",
       "\\item -1.0135274099044\n",
       "\\item 1.57327373614751\n",
       "\\item 0.0127465054882014\n",
       "\\item 0.872647049887217\n",
       "\\item 0.422066190530336\n",
       "\\item -0.0188157916578866\n",
       "\\item 2.61574896890584\n",
       "\\item -0.693140174826871\n",
       "\\item -0.266321780991085\n",
       "\\item -0.720636441231524\n",
       "\\item 1.36773420645149\n",
       "\\item 0.264007332160512\n",
       "\\item 0.632186807367191\n",
       "\\item -1.33065098578719\n",
       "\\item 0.0268888182209596\n",
       "\\item 1.0406363207788\n",
       "\\item 1.31202379854711\n",
       "\\item -0.0300020766733214\n",
       "\\item -0.250025712488174\n",
       "\\item 0.0234144856913592\n",
       "\\item 1.65987065574227\n",
       "\\end{enumerate*}\n"
      ],
      "text/markdown": [
       "1. -1.14397631447974\n",
       "2. 1.34212936561501\n",
       "3. 2.18539047574276\n",
       "4. 0.536392517923731\n",
       "5. 0.0631929664685468\n",
       "6. 0.502234482468979\n",
       "7. -0.000416724686432643\n",
       "8. 0.565819840539162\n",
       "9. -0.572522688962623\n",
       "10. -1.11022500727696\n",
       "11. -0.0486871233624514\n",
       "12. -0.695656217619366\n",
       "13. 0.828917480303335\n",
       "14. 0.206652855081802\n",
       "15. -0.235674509102427\n",
       "16. -0.556310491381104\n",
       "17. -0.364754357080585\n",
       "18. 0.862355034263622\n",
       "19. -0.63077153536771\n",
       "20. 0.313602125215739\n",
       "21. -0.931495317661393\n",
       "22. 0.823867618473952\n",
       "23. 0.523370702077482\n",
       "24. 0.706921411979056\n",
       "25. 0.420204325601679\n",
       "26. -0.269052154682033\n",
       "27. -1.51031729990999\n",
       "28. -0.69021247657504\n",
       "29. -0.143471952443572\n",
       "30. -1.0135274099044\n",
       "31. 1.57327373614751\n",
       "32. 0.0127465054882014\n",
       "33. 0.872647049887217\n",
       "34. 0.422066190530336\n",
       "35. -0.0188157916578866\n",
       "36. 2.61574896890584\n",
       "37. -0.693140174826871\n",
       "38. -0.266321780991085\n",
       "39. -0.720636441231524\n",
       "40. 1.36773420645149\n",
       "41. 0.264007332160512\n",
       "42. 0.632186807367191\n",
       "43. -1.33065098578719\n",
       "44. 0.0268888182209596\n",
       "45. 1.0406363207788\n",
       "46. 1.31202379854711\n",
       "47. -0.0300020766733214\n",
       "48. -0.250025712488174\n",
       "49. 0.0234144856913592\n",
       "50. 1.65987065574227\n",
       "\n",
       "\n"
      ],
      "text/plain": [
       " [1] -1.1439763145  1.3421293656  2.1853904757  0.5363925179  0.0631929665\n",
       " [6]  0.5022344825 -0.0004167247  0.5658198405 -0.5725226890 -1.1102250073\n",
       "[11] -0.0486871234 -0.6956562176  0.8289174803  0.2066528551 -0.2356745091\n",
       "[16] -0.5563104914 -0.3647543571  0.8623550343 -0.6307715354  0.3136021252\n",
       "[21] -0.9314953177  0.8238676185  0.5233707021  0.7069214120  0.4202043256\n",
       "[26] -0.2690521547 -1.5103172999 -0.6902124766 -0.1434719524 -1.0135274099\n",
       "[31]  1.5732737361  0.0127465055  0.8726470499  0.4220661905 -0.0188157917\n",
       "[36]  2.6157489689 -0.6931401748 -0.2663217810 -0.7206364412  1.3677342065\n",
       "[41]  0.2640073322  0.6321868074 -1.3306509858  0.0268888182  1.0406363208\n",
       "[46]  1.3120237985 -0.0300020767 -0.2500257125  0.0234144857  1.6598706557"
      ]
     },
     "metadata": {},
     "output_type": "display_data"
    }
   ],
   "source": [
    "# set the seed and generate 50 standard normal draws\n",
    "set.seed(1303)\n",
    "rnorm(50)"
   ]
  },
  {
   "cell_type": "code",
   "execution_count": 26,
   "metadata": {},
   "outputs": [
    {
     "data": {
      "text/html": [
       "<ol class=list-inline>\n",
       "\t<li>1.00185187818505</li>\n",
       "\t<li>0.263001429572219</li>\n",
       "\t<li>-0.0283590974176154</li>\n",
       "\t<li>-0.55625903785288</li>\n",
       "\t<li>-0.119561140833643</li>\n",
       "\t<li>-1.03629594492619</li>\n",
       "\t<li>-0.656638012454582</li>\n",
       "\t<li>0.530714901644989</li>\n",
       "\t<li>0.112396499216945</li>\n",
       "\t<li>-2.07756128846466</li>\n",
       "\t<li>0.420477878466603</li>\n",
       "\t<li>0.341276923586601</li>\n",
       "\t<li>-1.11146958912479</li>\n",
       "\t<li>0.843774534160089</li>\n",
       "\t<li>-0.855257777010302</li>\n",
       "\t<li>2.24788116073099</li>\n",
       "\t<li>-1.37211474460941</li>\n",
       "\t<li>0.935995003703719</li>\n",
       "\t<li>0.549737570990074</li>\n",
       "\t<li>0.517587436443611</li>\n",
       "\t<li>-0.560546687274596</li>\n",
       "\t<li>-0.638767696989054</li>\n",
       "\t<li>-0.0650083053849536</li>\n",
       "\t<li>0.375309556889663</li>\n",
       "\t<li>1.30692614444974</li>\n",
       "\t<li>-0.610580856181763</li>\n",
       "\t<li>0.322829932738563</li>\n",
       "\t<li>1.75126494616607</li>\n",
       "\t<li>1.55928970710235</li>\n",
       "\t<li>0.647131050202091</li>\n",
       "\t<li>-1.93202340403478</li>\n",
       "\t<li>-0.969381999364236</li>\n",
       "\t<li>1.00148882410184</li>\n",
       "\t<li>0.152200122831385</li>\n",
       "\t<li>-0.0451558622228293</li>\n",
       "\t<li>-0.502967574016448</li>\n",
       "\t<li>-0.259112838827849</li>\n",
       "\t<li>1.01738121902619</li>\n",
       "\t<li>-1.72582568344729</li>\n",
       "\t<li>0.93284077117826</li>\n",
       "\t<li>0.0278207686361831</li>\n",
       "\t<li>1.58725295761469</li>\n",
       "\t<li>0.23574668715114</li>\n",
       "\t<li>-0.210683726495045</li>\n",
       "\t<li>-0.169830676815287</li>\n",
       "\t<li>0.762800988542292</li>\n",
       "\t<li>0.430179479729382</li>\n",
       "\t<li>1.37181975964533</li>\n",
       "\t<li>1.57143594354063</li>\n",
       "\t<li>0.137373987414685</li>\n",
       "</ol>\n"
      ],
      "text/latex": [
       "\\begin{enumerate*}\n",
       "\\item 1.00185187818505\n",
       "\\item 0.263001429572219\n",
       "\\item -0.0283590974176154\n",
       "\\item -0.55625903785288\n",
       "\\item -0.119561140833643\n",
       "\\item -1.03629594492619\n",
       "\\item -0.656638012454582\n",
       "\\item 0.530714901644989\n",
       "\\item 0.112396499216945\n",
       "\\item -2.07756128846466\n",
       "\\item 0.420477878466603\n",
       "\\item 0.341276923586601\n",
       "\\item -1.11146958912479\n",
       "\\item 0.843774534160089\n",
       "\\item -0.855257777010302\n",
       "\\item 2.24788116073099\n",
       "\\item -1.37211474460941\n",
       "\\item 0.935995003703719\n",
       "\\item 0.549737570990074\n",
       "\\item 0.517587436443611\n",
       "\\item -0.560546687274596\n",
       "\\item -0.638767696989054\n",
       "\\item -0.0650083053849536\n",
       "\\item 0.375309556889663\n",
       "\\item 1.30692614444974\n",
       "\\item -0.610580856181763\n",
       "\\item 0.322829932738563\n",
       "\\item 1.75126494616607\n",
       "\\item 1.55928970710235\n",
       "\\item 0.647131050202091\n",
       "\\item -1.93202340403478\n",
       "\\item -0.969381999364236\n",
       "\\item 1.00148882410184\n",
       "\\item 0.152200122831385\n",
       "\\item -0.0451558622228293\n",
       "\\item -0.502967574016448\n",
       "\\item -0.259112838827849\n",
       "\\item 1.01738121902619\n",
       "\\item -1.72582568344729\n",
       "\\item 0.93284077117826\n",
       "\\item 0.0278207686361831\n",
       "\\item 1.58725295761469\n",
       "\\item 0.23574668715114\n",
       "\\item -0.210683726495045\n",
       "\\item -0.169830676815287\n",
       "\\item 0.762800988542292\n",
       "\\item 0.430179479729382\n",
       "\\item 1.37181975964533\n",
       "\\item 1.57143594354063\n",
       "\\item 0.137373987414685\n",
       "\\end{enumerate*}\n"
      ],
      "text/markdown": [
       "1. 1.00185187818505\n",
       "2. 0.263001429572219\n",
       "3. -0.0283590974176154\n",
       "4. -0.55625903785288\n",
       "5. -0.119561140833643\n",
       "6. -1.03629594492619\n",
       "7. -0.656638012454582\n",
       "8. 0.530714901644989\n",
       "9. 0.112396499216945\n",
       "10. -2.07756128846466\n",
       "11. 0.420477878466603\n",
       "12. 0.341276923586601\n",
       "13. -1.11146958912479\n",
       "14. 0.843774534160089\n",
       "15. -0.855257777010302\n",
       "16. 2.24788116073099\n",
       "17. -1.37211474460941\n",
       "18. 0.935995003703719\n",
       "19. 0.549737570990074\n",
       "20. 0.517587436443611\n",
       "21. -0.560546687274596\n",
       "22. -0.638767696989054\n",
       "23. -0.0650083053849536\n",
       "24. 0.375309556889663\n",
       "25. 1.30692614444974\n",
       "26. -0.610580856181763\n",
       "27. 0.322829932738563\n",
       "28. 1.75126494616607\n",
       "29. 1.55928970710235\n",
       "30. 0.647131050202091\n",
       "31. -1.93202340403478\n",
       "32. -0.969381999364236\n",
       "33. 1.00148882410184\n",
       "34. 0.152200122831385\n",
       "35. -0.0451558622228293\n",
       "36. -0.502967574016448\n",
       "37. -0.259112838827849\n",
       "38. 1.01738121902619\n",
       "39. -1.72582568344729\n",
       "40. 0.93284077117826\n",
       "41. 0.0278207686361831\n",
       "42. 1.58725295761469\n",
       "43. 0.23574668715114\n",
       "44. -0.210683726495045\n",
       "45. -0.169830676815287\n",
       "46. 0.762800988542292\n",
       "47. 0.430179479729382\n",
       "48. 1.37181975964533\n",
       "49. 1.57143594354063\n",
       "50. 0.137373987414685\n",
       "\n",
       "\n"
      ],
      "text/plain": [
       " [1]  1.00185188  0.26300143 -0.02835910 -0.55625904 -0.11956114 -1.03629594\n",
       " [7] -0.65663801  0.53071490  0.11239650 -2.07756129  0.42047788  0.34127692\n",
       "[13] -1.11146959  0.84377453 -0.85525778  2.24788116 -1.37211474  0.93599500\n",
       "[19]  0.54973757  0.51758744 -0.56054669 -0.63876770 -0.06500831  0.37530956\n",
       "[25]  1.30692614 -0.61058086  0.32282993  1.75126495  1.55928971  0.64713105\n",
       "[31] -1.93202340 -0.96938200  1.00148882  0.15220012 -0.04515586 -0.50296757\n",
       "[37] -0.25911284  1.01738122 -1.72582568  0.93284077  0.02782077  1.58725296\n",
       "[43]  0.23574669 -0.21068373 -0.16983068  0.76280099  0.43017948  1.37181976\n",
       "[49]  1.57143594  0.13737399"
      ]
     },
     "metadata": {},
     "output_type": "display_data"
    }
   ],
   "source": [
    "# without re-setting the seed generate 50 more standard normal draws\n",
    "rnorm(50)"
   ]
  },
  {
   "cell_type": "code",
   "execution_count": 27,
   "metadata": {},
   "outputs": [
    {
     "data": {
      "text/html": [
       "0.0110355710943715"
      ],
      "text/latex": [
       "0.0110355710943715"
      ],
      "text/markdown": [
       "0.0110355710943715"
      ],
      "text/plain": [
       "[1] 0.01103557"
      ]
     },
     "metadata": {},
     "output_type": "display_data"
    },
    {
     "data": {
      "text/html": [
       "0.732867501277449"
      ],
      "text/latex": [
       "0.732867501277449"
      ],
      "text/markdown": [
       "0.732867501277449"
      ],
      "text/plain": [
       "[1] 0.7328675"
      ]
     },
     "metadata": {},
     "output_type": "display_data"
    },
    {
     "data": {
      "text/html": [
       "0.856076808047881"
      ],
      "text/latex": [
       "0.856076808047881"
      ],
      "text/markdown": [
       "0.856076808047881"
      ],
      "text/plain": [
       "[1] 0.8560768"
      ]
     },
     "metadata": {},
     "output_type": "display_data"
    },
    {
     "data": {
      "text/html": [
       "0.856076808047881"
      ],
      "text/latex": [
       "0.856076808047881"
      ],
      "text/markdown": [
       "0.856076808047881"
      ],
      "text/plain": [
       "[1] 0.8560768"
      ]
     },
     "metadata": {},
     "output_type": "display_data"
    }
   ],
   "source": [
    "# set the seed\n",
    "set.seed(3)\n",
    "\n",
    "# create a vector of 100 standard normal draws\n",
    "y = rnorm(100)\n",
    "\n",
    "# calculate the mean\n",
    "mean(y)\n",
    "\n",
    "# calculate the variance\n",
    "var(y)\n",
    "\n",
    "# calculate the standard deviation two ways\n",
    "sqrt(var(y))\n",
    "sd(y)"
   ]
  }
 ],
 "metadata": {
  "kernelspec": {
   "display_name": "ISLR",
   "language": "R",
   "name": "islr"
  },
  "language_info": {
   "codemirror_mode": "r",
   "file_extension": ".r",
   "mimetype": "text/x-r-source",
   "name": "R",
   "pygments_lexer": "r",
   "version": "3.5.1"
  }
 },
 "nbformat": 4,
 "nbformat_minor": 2
}
