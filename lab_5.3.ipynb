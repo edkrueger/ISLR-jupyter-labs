{
 "cells": [
  {
   "cell_type": "markdown",
   "metadata": {},
   "source": [
    "# 5.3 Lab: Cross-Validation and the Bootstrap"
   ]
  },
  {
   "cell_type": "markdown",
   "metadata": {},
   "source": [
    "## 5.3.1 The Validation Set Approach"
   ]
  },
  {
   "cell_type": "code",
   "execution_count": 1,
   "metadata": {},
   "outputs": [],
   "source": [
    "# load the ISLR library\n",
    "library(ISLR)\n",
    "\n",
    "# get the Auto dataset\n",
    "data(Auto)\n",
    "auto = Auto\n",
    "\n",
    "# set the seed for reproducibility\n",
    "set.seed(1)"
   ]
  },
  {
   "cell_type": "code",
   "execution_count": 2,
   "metadata": {},
   "outputs": [],
   "source": [
    "# recalling that the Auto dataset has 392 observations split the dataset in half\n",
    "\n",
    "train_idx = sample(392, 196)\n",
    "\n",
    "train_data = auto[train_idx, ]\n",
    "test_data = auto[-train_idx, ]"
   ]
  },
  {
   "cell_type": "code",
   "execution_count": 3,
   "metadata": {},
   "outputs": [],
   "source": [
    "# train some models\n",
    "lm_1 = lm(mpg ~ horsepower, data=train_data)\n",
    "lm_2 = lm(mpg ~ poly(horsepower, 2), data=train_data)\n",
    "lm_3 = lm(mpg ~ poly(horsepower, 3), data=train_data)"
   ]
  },
  {
   "cell_type": "code",
   "execution_count": 4,
   "metadata": {},
   "outputs": [],
   "source": [
    "# write a function to calculate the MSE\n",
    "calc_MSE = function (model, data){\n",
    "    return (\n",
    "        mean((data$mpg - predict(model, data)) ^ 2)\n",
    "    )\n",
    "}"
   ]
  },
  {
   "cell_type": "code",
   "execution_count": 5,
   "metadata": {},
   "outputs": [
    {
     "data": {
      "text/html": [
       "21.7898680230336"
      ],
      "text/latex": [
       "21.7898680230336"
      ],
      "text/markdown": [
       "21.7898680230336"
      ],
      "text/plain": [
       "[1] 21.78987"
      ]
     },
     "metadata": {},
     "output_type": "display_data"
    },
    {
     "data": {
      "text/html": [
       "18.2911533017118"
      ],
      "text/latex": [
       "18.2911533017118"
      ],
      "text/markdown": [
       "18.2911533017118"
      ],
      "text/plain": [
       "[1] 18.29115"
      ]
     },
     "metadata": {},
     "output_type": "display_data"
    },
    {
     "data": {
      "text/html": [
       "18.2748194221358"
      ],
      "text/latex": [
       "18.2748194221358"
      ],
      "text/markdown": [
       "18.2748194221358"
      ],
      "text/plain": [
       "[1] 18.27482"
      ]
     },
     "metadata": {},
     "output_type": "display_data"
    }
   ],
   "source": [
    "# calculate the train MSE for the three models\n",
    "calc_MSE(lm_1, train_data)\n",
    "calc_MSE(lm_2, train_data)\n",
    "calc_MSE(lm_3, train_data)"
   ]
  },
  {
   "cell_type": "code",
   "execution_count": 6,
   "metadata": {},
   "outputs": [
    {
     "data": {
      "text/html": [
       "26.1414211520072"
      ],
      "text/latex": [
       "26.1414211520072"
      ],
      "text/markdown": [
       "26.1414211520072"
      ],
      "text/plain": [
       "[1] 26.14142"
      ]
     },
     "metadata": {},
     "output_type": "display_data"
    },
    {
     "data": {
      "text/html": [
       "19.8225850408262"
      ],
      "text/latex": [
       "19.8225850408262"
      ],
      "text/markdown": [
       "19.8225850408262"
      ],
      "text/plain": [
       "[1] 19.82259"
      ]
     },
     "metadata": {},
     "output_type": "display_data"
    },
    {
     "data": {
      "text/html": [
       "19.7825166856023"
      ],
      "text/latex": [
       "19.7825166856023"
      ],
      "text/markdown": [
       "19.7825166856023"
      ],
      "text/plain": [
       "[1] 19.78252"
      ]
     },
     "metadata": {},
     "output_type": "display_data"
    }
   ],
   "source": [
    "# calculate the train MSE for the three models\n",
    "calc_MSE(lm_1, test_data)\n",
    "calc_MSE(lm_2, test_data)\n",
    "calc_MSE(lm_3, test_data)"
   ]
  },
  {
   "cell_type": "code",
   "execution_count": 7,
   "metadata": {},
   "outputs": [
    {
     "data": {
      "text/html": [
       "25.0271735128922"
      ],
      "text/latex": [
       "25.0271735128922"
      ],
      "text/markdown": [
       "25.0271735128922"
      ],
      "text/plain": [
       "[1] 25.02717"
      ]
     },
     "metadata": {},
     "output_type": "display_data"
    },
    {
     "data": {
      "text/html": [
       "19.1962765034885"
      ],
      "text/latex": [
       "19.1962765034885"
      ],
      "text/markdown": [
       "19.1962765034885"
      ],
      "text/plain": [
       "[1] 19.19628"
      ]
     },
     "metadata": {},
     "output_type": "display_data"
    },
    {
     "data": {
      "text/html": [
       "19.138645905225"
      ],
      "text/latex": [
       "19.138645905225"
      ],
      "text/markdown": [
       "19.138645905225"
      ],
      "text/plain": [
       "[1] 19.13865"
      ]
     },
     "metadata": {},
     "output_type": "display_data"
    },
    {
     "data": {
      "text/html": [
       "23.2955851508862"
      ],
      "text/latex": [
       "23.2955851508862"
      ],
      "text/markdown": [
       "23.2955851508862"
      ],
      "text/plain": [
       "[1] 23.29559"
      ]
     },
     "metadata": {},
     "output_type": "display_data"
    },
    {
     "data": {
      "text/html": [
       "18.9012408317778"
      ],
      "text/latex": [
       "18.9012408317778"
      ],
      "text/markdown": [
       "18.9012408317778"
      ],
      "text/plain": [
       "[1] 18.90124"
      ]
     },
     "metadata": {},
     "output_type": "display_data"
    },
    {
     "data": {
      "text/html": [
       "19.2573982608642"
      ],
      "text/latex": [
       "19.2573982608642"
      ],
      "text/markdown": [
       "19.2573982608642"
      ],
      "text/plain": [
       "[1] 19.2574"
      ]
     },
     "metadata": {},
     "output_type": "display_data"
    }
   ],
   "source": [
    "# do the splitting, training and testing with a different seed\n",
    "\n",
    "# set the seed for reproducibility\n",
    "set.seed(2)\n",
    "\n",
    "# recalling that the Auto dataset has 392 observations split the dataset in half\n",
    "\n",
    "train_idx = sample(392, 196)\n",
    "\n",
    "train_data = auto[train_idx, ]\n",
    "test_data = auto[-train_idx, ]\n",
    "\n",
    "# train more models\n",
    "lm_1 = lm(mpg ~ horsepower, data=train_data)\n",
    "lm_2 = lm(mpg ~ poly(horsepower, 2), data=train_data)\n",
    "lm_3 = lm(mpg ~ poly(horsepower, 3), data=train_data)\n",
    "\n",
    "# calculate the train MSE for the three models\n",
    "calc_MSE(lm_1, train_data)\n",
    "calc_MSE(lm_2, train_data)\n",
    "calc_MSE(lm_3, train_data)\n",
    "\n",
    "# calculate the train MSE for the three models\n",
    "calc_MSE(lm_1, test_data)\n",
    "calc_MSE(lm_2, test_data)\n",
    "calc_MSE(lm_3, test_data)"
   ]
  },
  {
   "cell_type": "markdown",
   "metadata": {},
   "source": [
    "## 5.3.2: Leave-One-Out Cross-Validation"
   ]
  },
  {
   "cell_type": "code",
   "execution_count": 8,
   "metadata": {},
   "outputs": [
    {
     "data": {
      "text/plain": [
       "\n",
       "Call:\n",
       "glm(formula = mpg ~ horsepower, data = auto)\n",
       "\n",
       "Deviance Residuals: \n",
       "     Min        1Q    Median        3Q       Max  \n",
       "-13.5710   -3.2592   -0.3435    2.7630   16.9240  \n",
       "\n",
       "Coefficients:\n",
       "             Estimate Std. Error t value Pr(>|t|)    \n",
       "(Intercept) 39.935861   0.717499   55.66   <2e-16 ***\n",
       "horsepower  -0.157845   0.006446  -24.49   <2e-16 ***\n",
       "---\n",
       "Signif. codes:  0 ‘***’ 0.001 ‘**’ 0.01 ‘*’ 0.05 ‘.’ 0.1 ‘ ’ 1\n",
       "\n",
       "(Dispersion parameter for gaussian family taken to be 24.06645)\n",
       "\n",
       "    Null deviance: 23819.0  on 391  degrees of freedom\n",
       "Residual deviance:  9385.9  on 390  degrees of freedom\n",
       "AIC: 2363.3\n",
       "\n",
       "Number of Fisher Scoring iterations: 2\n"
      ]
     },
     "metadata": {},
     "output_type": "display_data"
    },
    {
     "data": {
      "text/plain": [
       "\n",
       "Call:\n",
       "glm(formula = mpg ~ horsepower, data = auto)\n",
       "\n",
       "Deviance Residuals: \n",
       "     Min        1Q    Median        3Q       Max  \n",
       "-13.5710   -3.2592   -0.3435    2.7630   16.9240  \n",
       "\n",
       "Coefficients:\n",
       "             Estimate Std. Error t value Pr(>|t|)    \n",
       "(Intercept) 39.935861   0.717499   55.66   <2e-16 ***\n",
       "horsepower  -0.157845   0.006446  -24.49   <2e-16 ***\n",
       "---\n",
       "Signif. codes:  0 ‘***’ 0.001 ‘**’ 0.01 ‘*’ 0.05 ‘.’ 0.1 ‘ ’ 1\n",
       "\n",
       "(Dispersion parameter for gaussian family taken to be 24.06645)\n",
       "\n",
       "    Null deviance: 23819.0  on 391  degrees of freedom\n",
       "Residual deviance:  9385.9  on 390  degrees of freedom\n",
       "AIC: 2363.3\n",
       "\n",
       "Number of Fisher Scoring iterations: 2\n"
      ]
     },
     "metadata": {},
     "output_type": "display_data"
    }
   ],
   "source": [
    "# the the glm function has the same behavior as the lm function by default, but with expanded output\n",
    "# we'll use the glm because cv.glm, the function in boot, works with glm objects\n",
    "\n",
    "lm_1 = glm_1 = glm(mpg ~ horsepower, data=auto)\n",
    "glm_1 = glm(mpg ~ horsepower, data=auto)\n",
    "\n",
    "summary(lm_1)\n",
    "summary(glm_1)"
   ]
  },
  {
   "cell_type": "code",
   "execution_count": 9,
   "metadata": {},
   "outputs": [
    {
     "data": {
      "text/html": [
       "24.2315135179292"
      ],
      "text/latex": [
       "24.2315135179292"
      ],
      "text/markdown": [
       "24.2315135179292"
      ],
      "text/plain": [
       "[1] 24.23151"
      ]
     },
     "metadata": {},
     "output_type": "display_data"
    }
   ],
   "source": [
    "# load the boot library and cross-validate glm_1\n",
    "library(boot)\n",
    "cv_err = cv.glm(auto, glm_1)\n",
    "cv_err$delta[1]"
   ]
  },
  {
   "cell_type": "code",
   "execution_count": 10,
   "metadata": {},
   "outputs": [
    {
     "data": {
      "text/html": [
       "<ol class=list-inline>\n",
       "\t<li>24.2315135179292</li>\n",
       "\t<li>19.2482131244897</li>\n",
       "\t<li>19.334984064029</li>\n",
       "\t<li>19.4244303104302</li>\n",
       "\t<li>19.0332138547041</li>\n",
       "</ol>\n"
      ],
      "text/latex": [
       "\\begin{enumerate*}\n",
       "\\item 24.2315135179292\n",
       "\\item 19.2482131244897\n",
       "\\item 19.334984064029\n",
       "\\item 19.4244303104302\n",
       "\\item 19.0332138547041\n",
       "\\end{enumerate*}\n"
      ],
      "text/markdown": [
       "1. 24.2315135179292\n",
       "2. 19.2482131244897\n",
       "3. 19.334984064029\n",
       "4. 19.4244303104302\n",
       "5. 19.0332138547041\n",
       "\n",
       "\n"
      ],
      "text/plain": [
       "[1] 24.23151 19.24821 19.33498 19.42443 19.03321"
      ]
     },
     "metadata": {},
     "output_type": "display_data"
    }
   ],
   "source": [
    "# cross-validate the linear through quintic model of horsepower on mpg\n",
    "\n",
    "#note: LOOCV is not effected by the seed\n",
    "\n",
    "# create a vector of 5 0s to store the results\n",
    "cv_errors = rep(0, 5)\n",
    "\n",
    "for (i in 1:5) {\n",
    "    glm_fit = glm(mpg ~ poly(horsepower, i), data=auto)\n",
    "    cv_errors[i] = cv.glm(auto, glm_fit)$delta[1]\n",
    "}\n",
    "\n",
    "cv_errors"
   ]
  },
  {
   "cell_type": "markdown",
   "metadata": {},
   "source": [
    "## 5.3.3 k-Fold Cross-Validation"
   ]
  },
  {
   "cell_type": "code",
   "execution_count": 11,
   "metadata": {},
   "outputs": [
    {
     "data": {
      "text/html": [
       "<ol class=list-inline>\n",
       "\t<li>24.2051967567753</li>\n",
       "\t<li>19.1892390663471</li>\n",
       "\t<li>19.3066158967501</li>\n",
       "\t<li>19.3379909004929</li>\n",
       "\t<li>18.8791148363354</li>\n",
       "\t<li>19.0210341885227</li>\n",
       "\t<li>18.8960903802809</li>\n",
       "\t<li>19.7120146188182</li>\n",
       "\t<li>18.9514005667305</li>\n",
       "\t<li>19.5019592285535</li>\n",
       "</ol>\n"
      ],
      "text/latex": [
       "\\begin{enumerate*}\n",
       "\\item 24.2051967567753\n",
       "\\item 19.1892390663471\n",
       "\\item 19.3066158967501\n",
       "\\item 19.3379909004929\n",
       "\\item 18.8791148363354\n",
       "\\item 19.0210341885227\n",
       "\\item 18.8960903802809\n",
       "\\item 19.7120146188182\n",
       "\\item 18.9514005667305\n",
       "\\item 19.5019592285535\n",
       "\\end{enumerate*}\n"
      ],
      "text/markdown": [
       "1. 24.2051967567753\n",
       "2. 19.1892390663471\n",
       "3. 19.3066158967501\n",
       "4. 19.3379909004929\n",
       "5. 18.8791148363354\n",
       "6. 19.0210341885227\n",
       "7. 18.8960903802809\n",
       "8. 19.7120146188182\n",
       "9. 18.9514005667305\n",
       "10. 19.5019592285535\n",
       "\n",
       "\n"
      ],
      "text/plain": [
       " [1] 24.20520 19.18924 19.30662 19.33799 18.87911 19.02103 18.89609 19.71201\n",
       " [9] 18.95140 19.50196"
      ]
     },
     "metadata": {},
     "output_type": "display_data"
    }
   ],
   "source": [
    "# cross-validate the linear through 10th degree model of horsepower on mpg\n",
    "\n",
    "# set a seed\n",
    "set.seed(17)\n",
    "\n",
    "# create a vector of 10 0s to store the results\n",
    "cv_errors = rep(0, 10)\n",
    "\n",
    "for (i in 1:10) {\n",
    "    glm_fit = glm(mpg ~ poly(horsepower, i), data=auto)\n",
    "    cv_errors[i] = cv.glm(auto, glm_fit, , K=10)$delta[1]\n",
    "}\n",
    "\n",
    "cv_errors"
   ]
  }
 ],
 "metadata": {
  "kernelspec": {
   "display_name": "ISLR",
   "language": "R",
   "name": "islr"
  },
  "language_info": {
   "codemirror_mode": "r",
   "file_extension": ".r",
   "mimetype": "text/x-r-source",
   "name": "R",
   "pygments_lexer": "r",
   "version": "3.5.1"
  }
 },
 "nbformat": 4,
 "nbformat_minor": 2
}
