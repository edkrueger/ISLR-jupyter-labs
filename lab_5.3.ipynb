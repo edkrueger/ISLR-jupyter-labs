{
 "cells": [
  {
   "cell_type": "markdown",
   "metadata": {},
   "source": [
    "# 5.3 Lab: Cross-Validation and the Bootstrap"
   ]
  },
  {
   "cell_type": "markdown",
   "metadata": {},
   "source": [
    "## 5.3.1 The Validation Set Approach"
   ]
  },
  {
   "cell_type": "code",
   "execution_count": 1,
   "metadata": {},
   "outputs": [],
   "source": [
    "# load the ISLR library\n",
    "library(ISLR)\n",
    "\n",
    "# get the Auto dataset\n",
    "data(Auto)\n",
    "auto = Auto\n",
    "\n",
    "# set the seed for reproducibility\n",
    "set.seed(1)"
   ]
  },
  {
   "cell_type": "code",
   "execution_count": 2,
   "metadata": {},
   "outputs": [],
   "source": [
    "# recalling that the Auto dataset has 392 observations split the dataset in half\n",
    "\n",
    "train_idx = sample(392, 196)\n",
    "\n",
    "train_data = auto[train_idx, ]\n",
    "test_data = auto[-train_idx, ]"
   ]
  },
  {
   "cell_type": "code",
   "execution_count": 3,
   "metadata": {},
   "outputs": [],
   "source": [
    "# train some models\n",
    "lm_1 = lm(mpg ~ horsepower, data=train_data)\n",
    "lm_2 = lm(mpg ~ poly(horsepower, 2), data=train_data)\n",
    "lm_3 = lm(mpg ~ poly(horsepower, 3), data=train_data)"
   ]
  },
  {
   "cell_type": "code",
   "execution_count": 4,
   "metadata": {},
   "outputs": [],
   "source": [
    "# write a function to calculate the MSE\n",
    "calc_MSE = function (model, data){\n",
    "    return (\n",
    "        mean((data$mpg - predict(model, data)) ^ 2)\n",
    "    )\n",
    "}"
   ]
  },
  {
   "cell_type": "code",
   "execution_count": 5,
   "metadata": {},
   "outputs": [
    {
     "data": {
      "text/html": [
       "21.7898680230336"
      ],
      "text/latex": [
       "21.7898680230336"
      ],
      "text/markdown": [
       "21.7898680230336"
      ],
      "text/plain": [
       "[1] 21.78987"
      ]
     },
     "metadata": {},
     "output_type": "display_data"
    },
    {
     "data": {
      "text/html": [
       "18.2911533017118"
      ],
      "text/latex": [
       "18.2911533017118"
      ],
      "text/markdown": [
       "18.2911533017118"
      ],
      "text/plain": [
       "[1] 18.29115"
      ]
     },
     "metadata": {},
     "output_type": "display_data"
    },
    {
     "data": {
      "text/html": [
       "18.2748194221358"
      ],
      "text/latex": [
       "18.2748194221358"
      ],
      "text/markdown": [
       "18.2748194221358"
      ],
      "text/plain": [
       "[1] 18.27482"
      ]
     },
     "metadata": {},
     "output_type": "display_data"
    }
   ],
   "source": [
    "# calculate the train MSE for the three models\n",
    "calc_MSE(lm_1, train_data)\n",
    "calc_MSE(lm_2, train_data)\n",
    "calc_MSE(lm_3, train_data)"
   ]
  },
  {
   "cell_type": "code",
   "execution_count": 6,
   "metadata": {},
   "outputs": [
    {
     "data": {
      "text/html": [
       "26.1414211520072"
      ],
      "text/latex": [
       "26.1414211520072"
      ],
      "text/markdown": [
       "26.1414211520072"
      ],
      "text/plain": [
       "[1] 26.14142"
      ]
     },
     "metadata": {},
     "output_type": "display_data"
    },
    {
     "data": {
      "text/html": [
       "19.8225850408262"
      ],
      "text/latex": [
       "19.8225850408262"
      ],
      "text/markdown": [
       "19.8225850408262"
      ],
      "text/plain": [
       "[1] 19.82259"
      ]
     },
     "metadata": {},
     "output_type": "display_data"
    },
    {
     "data": {
      "text/html": [
       "19.7825166856023"
      ],
      "text/latex": [
       "19.7825166856023"
      ],
      "text/markdown": [
       "19.7825166856023"
      ],
      "text/plain": [
       "[1] 19.78252"
      ]
     },
     "metadata": {},
     "output_type": "display_data"
    }
   ],
   "source": [
    "# calculate the train MSE for the three models\n",
    "calc_MSE(lm_1, test_data)\n",
    "calc_MSE(lm_2, test_data)\n",
    "calc_MSE(lm_3, test_data)"
   ]
  },
  {
   "cell_type": "code",
   "execution_count": 7,
   "metadata": {},
   "outputs": [
    {
     "data": {
      "text/html": [
       "25.0271735128922"
      ],
      "text/latex": [
       "25.0271735128922"
      ],
      "text/markdown": [
       "25.0271735128922"
      ],
      "text/plain": [
       "[1] 25.02717"
      ]
     },
     "metadata": {},
     "output_type": "display_data"
    },
    {
     "data": {
      "text/html": [
       "19.1962765034885"
      ],
      "text/latex": [
       "19.1962765034885"
      ],
      "text/markdown": [
       "19.1962765034885"
      ],
      "text/plain": [
       "[1] 19.19628"
      ]
     },
     "metadata": {},
     "output_type": "display_data"
    },
    {
     "data": {
      "text/html": [
       "19.138645905225"
      ],
      "text/latex": [
       "19.138645905225"
      ],
      "text/markdown": [
       "19.138645905225"
      ],
      "text/plain": [
       "[1] 19.13865"
      ]
     },
     "metadata": {},
     "output_type": "display_data"
    },
    {
     "data": {
      "text/html": [
       "23.2955851508862"
      ],
      "text/latex": [
       "23.2955851508862"
      ],
      "text/markdown": [
       "23.2955851508862"
      ],
      "text/plain": [
       "[1] 23.29559"
      ]
     },
     "metadata": {},
     "output_type": "display_data"
    },
    {
     "data": {
      "text/html": [
       "18.9012408317778"
      ],
      "text/latex": [
       "18.9012408317778"
      ],
      "text/markdown": [
       "18.9012408317778"
      ],
      "text/plain": [
       "[1] 18.90124"
      ]
     },
     "metadata": {},
     "output_type": "display_data"
    },
    {
     "data": {
      "text/html": [
       "19.2573982608642"
      ],
      "text/latex": [
       "19.2573982608642"
      ],
      "text/markdown": [
       "19.2573982608642"
      ],
      "text/plain": [
       "[1] 19.2574"
      ]
     },
     "metadata": {},
     "output_type": "display_data"
    }
   ],
   "source": [
    "# do the splitting, training and testing with a different seed\n",
    "\n",
    "# set the seed for reproducibility\n",
    "set.seed(2)\n",
    "\n",
    "# recalling that the Auto dataset has 392 observations split the dataset in half\n",
    "\n",
    "train_idx = sample(392, 196)\n",
    "\n",
    "train_data = auto[train_idx, ]\n",
    "test_data = auto[-train_idx, ]\n",
    "\n",
    "# train more models\n",
    "lm_1 = lm(mpg ~ horsepower, data=train_data)\n",
    "lm_2 = lm(mpg ~ poly(horsepower, 2), data=train_data)\n",
    "lm_3 = lm(mpg ~ poly(horsepower, 3), data=train_data)\n",
    "\n",
    "# calculate the train MSE for the three models\n",
    "calc_MSE(lm_1, train_data)\n",
    "calc_MSE(lm_2, train_data)\n",
    "calc_MSE(lm_3, train_data)\n",
    "\n",
    "# calculate the train MSE for the three models\n",
    "calc_MSE(lm_1, test_data)\n",
    "calc_MSE(lm_2, test_data)\n",
    "calc_MSE(lm_3, test_data)"
   ]
  }
 ],
 "metadata": {
  "kernelspec": {
   "display_name": "ISLR",
   "language": "R",
   "name": "islr"
  },
  "language_info": {
   "codemirror_mode": "r",
   "file_extension": ".r",
   "mimetype": "text/x-r-source",
   "name": "R",
   "pygments_lexer": "r",
   "version": "3.5.1"
  }
 },
 "nbformat": 4,
 "nbformat_minor": 2
}
